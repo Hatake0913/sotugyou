{
  "nbformat": 4,
  "nbformat_minor": 0,
  "metadata": {
    "colab": {
      "provenance": [],
      "collapsed_sections": [],
      "authorship_tag": "ABX9TyMboJJ7hnBzteR3dyhRa2Pe",
      "include_colab_link": true
    },
    "kernelspec": {
      "name": "python3",
      "display_name": "Python 3"
    },
    "language_info": {
      "name": "python"
    },
    "accelerator": "GPU"
  },
  "cells": [
    {
      "cell_type": "markdown",
      "metadata": {
        "id": "view-in-github",
        "colab_type": "text"
      },
      "source": [
        "<a href=\"https://colab.research.google.com/github/Hatake0913/sotugyou/blob/main/tennistracking.ipynb\" target=\"_parent\"><img src=\"https://colab.research.google.com/assets/colab-badge.svg\" alt=\"Open In Colab\"/></a>"
      ]
    },
    {
      "cell_type": "code",
      "execution_count": 6,
      "metadata": {
        "id": "PaCaepPsQxk3",
        "colab": {
          "base_uri": "https://localhost:8080/"
        },
        "outputId": "25131b25-ce93-496f-9e5e-e8d488d55e07"
      },
      "outputs": [
        {
          "output_type": "stream",
          "name": "stdout",
          "text": [
            "Cloning into 'tennis-tracking'...\n",
            "remote: Enumerating objects: 730, done.\u001b[K\n",
            "remote: Counting objects:  14% (1/7)\u001b[K\rremote: Counting objects:  28% (2/7)\u001b[K\rremote: Counting objects:  42% (3/7)\u001b[K\rremote: Counting objects:  57% (4/7)\u001b[K\rremote: Counting objects:  71% (5/7)\u001b[K\rremote: Counting objects:  85% (6/7)\u001b[K\rremote: Counting objects: 100% (7/7)\u001b[K\rremote: Counting objects: 100% (7/7), done.\u001b[K\n",
            "remote: Compressing objects: 100% (3/3), done.\u001b[K\n",
            "remote: Total 730 (delta 4), reused 4 (delta 4), pack-reused 723\u001b[K\n",
            "Receiving objects: 100% (730/730), 164.99 MiB | 41.44 MiB/s, done.\n",
            "Resolving deltas: 100% (393/393), done.\n",
            "Checking out files: 100% (58/58), done.\n"
          ]
        }
      ],
      "source": [
        "!git clone https://github.com/ArtLabss/tennis-tracking"
      ]
    },
    {
      "cell_type": "code",
      "source": [
        "from google.colab import drive\n",
        "drive.mount('/content/drive')"
      ],
      "metadata": {
        "id": "9up-R7CIRrbX",
        "colab": {
          "base_uri": "https://localhost:8080/"
        },
        "outputId": "7629b272-26f8-42c0-9ae1-5e8fa97e3b8d"
      },
      "execution_count": 7,
      "outputs": [
        {
          "output_type": "stream",
          "name": "stdout",
          "text": [
            "Drive already mounted at /content/drive; to attempt to forcibly remount, call drive.mount(\"/content/drive\", force_remount=True).\n"
          ]
        }
      ]
    },
    {
      "cell_type": "code",
      "source": [
        "import os \n",
        "os.chdir('/content/tennis-tracking')"
      ],
      "metadata": {
        "id": "eh1WwxxOQ-p-"
      },
      "execution_count": 8,
      "outputs": []
    },
    {
      "cell_type": "code",
      "source": [
        "!pip install filterpy sktime\n",
        "!pip install matplotlib\n",
        "!pip install matplotlib.pyplot"
      ],
      "metadata": {
        "id": "VgbujYh1SsL3",
        "colab": {
          "base_uri": "https://localhost:8080/"
        },
        "outputId": "14248073-1b0c-45b0-f780-e8be629aebd8"
      },
      "execution_count": 17,
      "outputs": [
        {
          "output_type": "stream",
          "name": "stdout",
          "text": [
            "Looking in indexes: https://pypi.org/simple, https://us-python.pkg.dev/colab-wheels/public/simple/\n",
            "Requirement already satisfied: filterpy in /usr/local/lib/python3.7/dist-packages (1.4.5)\n",
            "Requirement already satisfied: sktime in /usr/local/lib/python3.7/dist-packages (0.13.4)\n",
            "Requirement already satisfied: scipy in /usr/local/lib/python3.7/dist-packages (from filterpy) (1.7.3)\n",
            "Requirement already satisfied: matplotlib in /usr/local/lib/python3.7/dist-packages (from filterpy) (3.2.2)\n",
            "Requirement already satisfied: numpy in /usr/local/lib/python3.7/dist-packages (from filterpy) (1.21.6)\n",
            "Requirement already satisfied: scikit-learn<1.2.0,>=0.24.0 in /usr/local/lib/python3.7/dist-packages (from sktime) (1.0.2)\n",
            "Requirement already satisfied: pandas<1.6.0,>=1.1.0 in /usr/local/lib/python3.7/dist-packages (from sktime) (1.3.5)\n",
            "Requirement already satisfied: deprecated>=1.2.13 in /usr/local/lib/python3.7/dist-packages (from sktime) (1.2.13)\n",
            "Requirement already satisfied: statsmodels>=0.12.1 in /usr/local/lib/python3.7/dist-packages (from sktime) (0.12.2)\n",
            "Requirement already satisfied: numba>=0.53 in /usr/local/lib/python3.7/dist-packages (from sktime) (0.56.3)\n",
            "Requirement already satisfied: wrapt<2,>=1.10 in /usr/local/lib/python3.7/dist-packages (from deprecated>=1.2.13->sktime) (1.14.1)\n",
            "Requirement already satisfied: setuptools in /usr/local/lib/python3.7/dist-packages (from numba>=0.53->sktime) (57.4.0)\n",
            "Requirement already satisfied: llvmlite<0.40,>=0.39.0dev0 in /usr/local/lib/python3.7/dist-packages (from numba>=0.53->sktime) (0.39.1)\n",
            "Requirement already satisfied: importlib-metadata in /usr/local/lib/python3.7/dist-packages (from numba>=0.53->sktime) (4.13.0)\n",
            "Requirement already satisfied: python-dateutil>=2.7.3 in /usr/local/lib/python3.7/dist-packages (from pandas<1.6.0,>=1.1.0->sktime) (2.8.2)\n",
            "Requirement already satisfied: pytz>=2017.3 in /usr/local/lib/python3.7/dist-packages (from pandas<1.6.0,>=1.1.0->sktime) (2022.4)\n",
            "Requirement already satisfied: six>=1.5 in /usr/local/lib/python3.7/dist-packages (from python-dateutil>=2.7.3->pandas<1.6.0,>=1.1.0->sktime) (1.15.0)\n",
            "Requirement already satisfied: threadpoolctl>=2.0.0 in /usr/local/lib/python3.7/dist-packages (from scikit-learn<1.2.0,>=0.24.0->sktime) (3.1.0)\n",
            "Requirement already satisfied: joblib>=0.11 in /usr/local/lib/python3.7/dist-packages (from scikit-learn<1.2.0,>=0.24.0->sktime) (1.2.0)\n",
            "Requirement already satisfied: patsy>=0.5 in /usr/local/lib/python3.7/dist-packages (from statsmodels>=0.12.1->sktime) (0.5.3)\n",
            "Requirement already satisfied: typing-extensions>=3.6.4 in /usr/local/lib/python3.7/dist-packages (from importlib-metadata->numba>=0.53->sktime) (4.1.1)\n",
            "Requirement already satisfied: zipp>=0.5 in /usr/local/lib/python3.7/dist-packages (from importlib-metadata->numba>=0.53->sktime) (3.9.0)\n",
            "Requirement already satisfied: pyparsing!=2.0.4,!=2.1.2,!=2.1.6,>=2.0.1 in /usr/local/lib/python3.7/dist-packages (from matplotlib->filterpy) (3.0.9)\n",
            "Requirement already satisfied: kiwisolver>=1.0.1 in /usr/local/lib/python3.7/dist-packages (from matplotlib->filterpy) (1.4.4)\n",
            "Requirement already satisfied: cycler>=0.10 in /usr/local/lib/python3.7/dist-packages (from matplotlib->filterpy) (0.11.0)\n",
            "Looking in indexes: https://pypi.org/simple, https://us-python.pkg.dev/colab-wheels/public/simple/\n",
            "Requirement already satisfied: matplotlib in /usr/local/lib/python3.7/dist-packages (3.2.2)\n",
            "Requirement already satisfied: pyparsing!=2.0.4,!=2.1.2,!=2.1.6,>=2.0.1 in /usr/local/lib/python3.7/dist-packages (from matplotlib) (3.0.9)\n",
            "Requirement already satisfied: numpy>=1.11 in /usr/local/lib/python3.7/dist-packages (from matplotlib) (1.21.6)\n",
            "Requirement already satisfied: python-dateutil>=2.1 in /usr/local/lib/python3.7/dist-packages (from matplotlib) (2.8.2)\n",
            "Requirement already satisfied: cycler>=0.10 in /usr/local/lib/python3.7/dist-packages (from matplotlib) (0.11.0)\n",
            "Requirement already satisfied: kiwisolver>=1.0.1 in /usr/local/lib/python3.7/dist-packages (from matplotlib) (1.4.4)\n",
            "Requirement already satisfied: typing-extensions in /usr/local/lib/python3.7/dist-packages (from kiwisolver>=1.0.1->matplotlib) (4.1.1)\n",
            "Requirement already satisfied: six>=1.5 in /usr/local/lib/python3.7/dist-packages (from python-dateutil>=2.1->matplotlib) (1.15.0)\n",
            "Looking in indexes: https://pypi.org/simple, https://us-python.pkg.dev/colab-wheels/public/simple/\n",
            "\u001b[31mERROR: Could not find a version that satisfies the requirement matplotlib.pyplot (from versions: none)\u001b[0m\n",
            "\u001b[31mERROR: No matching distribution found for matplotlib.pyplot\u001b[0m\n"
          ]
        }
      ]
    },
    {
      "cell_type": "code",
      "source": [
        "!python3 predict_video.py --input_video_path=VideoInput/video_input8.mp4 --output_video_path=VideoOutput/video_output4.mp4 --minimap=0 --bounce=1"
      ],
      "metadata": {
        "colab": {
          "base_uri": "https://localhost:8080/"
        },
        "id": "w10ShFwzU694",
        "outputId": "b53ea9d8-af19-4792-ba7b-15ee431a13a5"
      },
      "execution_count": null,
      "outputs": [
        {
          "output_type": "stream",
          "name": "stdout",
          "text": [
            "fps : 30\n",
            "2022-10-24 05:25:04.194371: W tensorflow/core/common_runtime/gpu/gpu_bfc_allocator.cc:42] Overriding orig_value setting because the TF_FORCE_GPU_ALLOW_GROWTH environment variable is set. Original config value was 0.\n",
            "layer24 output shape: 256 360 640\n",
            "Model: \"model_1\"\n",
            "_________________________________________________________________\n",
            " Layer (type)                Output Shape              Param #   \n",
            "=================================================================\n",
            " input_1 (InputLayer)        [(None, 3, 360, 640)]     0         \n",
            "                                                                 \n",
            " conv2d (Conv2D)             (None, 64, 360, 640)      1792      \n",
            "                                                                 \n",
            " activation (Activation)     (None, 64, 360, 640)      0         \n",
            "                                                                 \n",
            " batch_normalization (BatchN  (None, 64, 360, 640)     2560      \n",
            " ormalization)                                                   \n",
            "                                                                 \n",
            " conv2d_1 (Conv2D)           (None, 64, 360, 640)      36928     \n",
            "                                                                 \n",
            " activation_1 (Activation)   (None, 64, 360, 640)      0         \n",
            "                                                                 \n",
            " batch_normalization_1 (Batc  (None, 64, 360, 640)     2560      \n",
            " hNormalization)                                                 \n",
            "                                                                 \n",
            " max_pooling2d (MaxPooling2D  (None, 64, 180, 320)     0         \n",
            " )                                                               \n",
            "                                                                 \n",
            " conv2d_2 (Conv2D)           (None, 128, 180, 320)     73856     \n",
            "                                                                 \n",
            " activation_2 (Activation)   (None, 128, 180, 320)     0         \n",
            "                                                                 \n",
            " batch_normalization_2 (Batc  (None, 128, 180, 320)    1280      \n",
            " hNormalization)                                                 \n",
            "                                                                 \n",
            " conv2d_3 (Conv2D)           (None, 128, 180, 320)     147584    \n",
            "                                                                 \n",
            " activation_3 (Activation)   (None, 128, 180, 320)     0         \n",
            "                                                                 \n",
            " batch_normalization_3 (Batc  (None, 128, 180, 320)    1280      \n",
            " hNormalization)                                                 \n",
            "                                                                 \n",
            " max_pooling2d_1 (MaxPooling  (None, 128, 90, 160)     0         \n",
            " 2D)                                                             \n",
            "                                                                 \n",
            " conv2d_4 (Conv2D)           (None, 256, 90, 160)      295168    \n",
            "                                                                 \n",
            " activation_4 (Activation)   (None, 256, 90, 160)      0         \n",
            "                                                                 \n",
            " batch_normalization_4 (Batc  (None, 256, 90, 160)     640       \n",
            " hNormalization)                                                 \n",
            "                                                                 \n",
            " conv2d_5 (Conv2D)           (None, 256, 90, 160)      590080    \n",
            "                                                                 \n",
            " activation_5 (Activation)   (None, 256, 90, 160)      0         \n",
            "                                                                 \n",
            " batch_normalization_5 (Batc  (None, 256, 90, 160)     640       \n",
            " hNormalization)                                                 \n",
            "                                                                 \n",
            " conv2d_6 (Conv2D)           (None, 256, 90, 160)      590080    \n",
            "                                                                 \n",
            " activation_6 (Activation)   (None, 256, 90, 160)      0         \n",
            "                                                                 \n",
            " batch_normalization_6 (Batc  (None, 256, 90, 160)     640       \n",
            " hNormalization)                                                 \n",
            "                                                                 \n",
            " max_pooling2d_2 (MaxPooling  (None, 256, 45, 80)      0         \n",
            " 2D)                                                             \n",
            "                                                                 \n",
            " conv2d_7 (Conv2D)           (None, 512, 45, 80)       1180160   \n",
            "                                                                 \n",
            " activation_7 (Activation)   (None, 512, 45, 80)       0         \n",
            "                                                                 \n",
            " batch_normalization_7 (Batc  (None, 512, 45, 80)      320       \n",
            " hNormalization)                                                 \n",
            "                                                                 \n",
            " conv2d_8 (Conv2D)           (None, 512, 45, 80)       2359808   \n",
            "                                                                 \n",
            " activation_8 (Activation)   (None, 512, 45, 80)       0         \n",
            "                                                                 \n",
            " batch_normalization_8 (Batc  (None, 512, 45, 80)      320       \n",
            " hNormalization)                                                 \n",
            "                                                                 \n",
            " conv2d_9 (Conv2D)           (None, 512, 45, 80)       2359808   \n",
            "                                                                 \n",
            " activation_9 (Activation)   (None, 512, 45, 80)       0         \n",
            "                                                                 \n",
            " batch_normalization_9 (Batc  (None, 512, 45, 80)      320       \n",
            " hNormalization)                                                 \n",
            "                                                                 \n",
            " up_sampling2d (UpSampling2D  (None, 512, 90, 160)     0         \n",
            " )                                                               \n",
            "                                                                 \n",
            " conv2d_10 (Conv2D)          (None, 256, 90, 160)      1179904   \n",
            "                                                                 \n",
            " activation_10 (Activation)  (None, 256, 90, 160)      0         \n",
            "                                                                 \n",
            " batch_normalization_10 (Bat  (None, 256, 90, 160)     640       \n",
            " chNormalization)                                                \n",
            "                                                                 \n",
            " conv2d_11 (Conv2D)          (None, 256, 90, 160)      590080    \n",
            "                                                                 \n",
            " activation_11 (Activation)  (None, 256, 90, 160)      0         \n",
            "                                                                 \n",
            " batch_normalization_11 (Bat  (None, 256, 90, 160)     640       \n",
            " chNormalization)                                                \n",
            "                                                                 \n",
            " conv2d_12 (Conv2D)          (None, 256, 90, 160)      590080    \n",
            "                                                                 \n",
            " activation_12 (Activation)  (None, 256, 90, 160)      0         \n",
            "                                                                 \n",
            " batch_normalization_12 (Bat  (None, 256, 90, 160)     640       \n",
            " chNormalization)                                                \n",
            "                                                                 \n",
            " up_sampling2d_1 (UpSampling  (None, 256, 180, 320)    0         \n",
            " 2D)                                                             \n",
            "                                                                 \n",
            " conv2d_13 (Conv2D)          (None, 128, 180, 320)     295040    \n",
            "                                                                 \n",
            " activation_13 (Activation)  (None, 128, 180, 320)     0         \n",
            "                                                                 \n",
            " batch_normalization_13 (Bat  (None, 128, 180, 320)    1280      \n",
            " chNormalization)                                                \n",
            "                                                                 \n",
            " conv2d_14 (Conv2D)          (None, 128, 180, 320)     147584    \n",
            "                                                                 \n",
            " activation_14 (Activation)  (None, 128, 180, 320)     0         \n",
            "                                                                 \n",
            " batch_normalization_14 (Bat  (None, 128, 180, 320)    1280      \n",
            " chNormalization)                                                \n",
            "                                                                 \n",
            " up_sampling2d_2 (UpSampling  (None, 128, 360, 640)    0         \n",
            " 2D)                                                             \n",
            "                                                                 \n",
            " conv2d_15 (Conv2D)          (None, 64, 360, 640)      73792     \n",
            "                                                                 \n",
            " activation_15 (Activation)  (None, 64, 360, 640)      0         \n",
            "                                                                 \n",
            " batch_normalization_15 (Bat  (None, 64, 360, 640)     2560      \n",
            " chNormalization)                                                \n",
            "                                                                 \n",
            " conv2d_16 (Conv2D)          (None, 64, 360, 640)      36928     \n",
            "                                                                 \n",
            " activation_16 (Activation)  (None, 64, 360, 640)      0         \n",
            "                                                                 \n",
            " batch_normalization_16 (Bat  (None, 64, 360, 640)     2560      \n",
            " chNormalization)                                                \n",
            "                                                                 \n",
            " conv2d_17 (Conv2D)          (None, 256, 360, 640)     147712    \n",
            "                                                                 \n",
            " activation_17 (Activation)  (None, 256, 360, 640)     0         \n",
            "                                                                 \n",
            " batch_normalization_17 (Bat  (None, 256, 360, 640)    2560      \n",
            " chNormalization)                                                \n",
            "                                                                 \n",
            " reshape (Reshape)           (None, 256, 230400)       0         \n",
            "                                                                 \n",
            " permute (Permute)           (None, 230400, 256)       0         \n",
            "                                                                 \n",
            " activation_18 (Activation)  (None, 230400, 256)       0         \n",
            "                                                                 \n",
            "=================================================================\n",
            "Total params: 10,719,104\n",
            "Trainable params: 10,707,744\n",
            "Non-trainable params: 11,360\n",
            "_________________________________________________________________\n",
            "2022-10-24 05:25:04.604754: W tensorflow/core/util/tensor_slice_reader.cc:96] Could not open WeightsTracknet/model.1: DATA_LOSS: not an sstable (bad magic number): perhaps your file is in a different file format and you need to use a different restore operator?\n",
            "OpenCV: FFMPEG: tag 0x44495658/'XVID' is not supported with codec id 12 and format 'mp4 / MP4 (MPEG-4 Part 14)'\n",
            "OpenCV: FFMPEG: fallback to use tag 0x7634706d/'mp4v'\n",
            "Using device cuda\n",
            "/usr/local/lib/python3.7/dist-packages/torchvision/models/_utils.py:209: UserWarning: The parameter 'pretrained' is deprecated since 0.13 and will be removed in 0.15, please use 'weights' instead.\n",
            "  f\"The parameter '{pretrained_param}' is deprecated since 0.13 and will be removed in 0.15, \"\n",
            "/usr/local/lib/python3.7/dist-packages/torchvision/models/_utils.py:223: UserWarning: Arguments other than a weight enum or `None` for 'weights' are deprecated since 0.13 and will be removed in 0.15. The current behavior is equivalent to passing `weights=FasterRCNN_ResNet50_FPN_Weights.COCO_V1`. You can also use `weights=FasterRCNN_ResNet50_FPN_Weights.DEFAULT` to get the most up-to-date weights.\n",
            "  warnings.warn(msg)\n",
            "Detecting the court and the players...\n",
            "BOXES  [array([615.07117, 728.4775 , 720.1416 , 941.5846 ], dtype=float32), array([1515.2349,  370.3853, 1545.9312,  435.9765], dtype=float32)]\n",
            "BIGGEST  [615. 728. 720. 942.]\n"
          ]
        }
      ]
    },
    {
      "cell_type": "code",
      "source": [],
      "metadata": {
        "id": "gMTE_ZoU6lyy"
      },
      "execution_count": 10,
      "outputs": []
    }
  ]
}